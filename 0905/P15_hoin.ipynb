{
 "cells": [
  {
   "cell_type": "code",
   "execution_count": 68,
   "metadata": {},
   "outputs": [
    {
     "name": "stdout",
     "output_type": "stream",
     "text": [
      "-1 -2\n",
      "-1 -3\n",
      "-1 -4\n",
      "-1 -5\n",
      "-2 -3\n",
      "-2 -4\n",
      "-2 -5\n",
      "-3 -4\n",
      "-3 -5\n"
     ]
    },
    {
     "data": {
      "text/plain": [
       "[2, 4]"
      ]
     },
     "execution_count": 68,
     "metadata": {},
     "output_type": "execute_result"
    }
   ],
   "source": [
    "class Solution:\n",
    "    def twoSum(self, nums, target):\n",
    "        for i in range(len(nums)):\n",
    "            a = nums[i]\n",
    "            for j in range(i+1, len(nums)):\n",
    "                b = nums[j]\n",
    "                if a+b==target:\n",
    "                    return [i,j]\n",
    "solver = Solution()\n",
    "nums = [2,7,11,15]\n",
    "target = 9\n",
    "solver.twoSum(nums,target)       "
   ]
  }
 ],
 "metadata": {
  "kernelspec": {
   "display_name": "Python 3.10.4 ('py310': conda)",
   "language": "python",
   "name": "python3"
  },
  "language_info": {
   "codemirror_mode": {
    "name": "ipython",
    "version": 3
   },
   "file_extension": ".py",
   "mimetype": "text/x-python",
   "name": "python",
   "nbconvert_exporter": "python",
   "pygments_lexer": "ipython3",
   "version": "3.10.4"
  },
  "orig_nbformat": 4,
  "vscode": {
   "interpreter": {
    "hash": "7e93b77a149730369c8afcfded88225d3677e5447c929e96e0362652884ac491"
   }
  }
 },
 "nbformat": 4,
 "nbformat_minor": 2
}
