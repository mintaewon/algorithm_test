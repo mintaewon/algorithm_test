{
 "cells": [
  {
   "cell_type": "code",
   "execution_count": 11,
   "metadata": {},
   "outputs": [
    {
     "data": {
      "text/plain": [
       "5"
      ]
     },
     "execution_count": 11,
     "metadata": {},
     "output_type": "execute_result"
    }
   ],
   "source": [
    "class Solution:\n",
    "    def maxProfit(self, prices):\n",
    "        buy=prices[0]\n",
    "        max_profit=0\n",
    "        for i in range(len(prices)):\n",
    "            curr = prices[i]\n",
    "            if buy >= curr:\n",
    "                buy=curr\n",
    "            profit = curr - buy\n",
    "            if profit>=max_profit:\n",
    "                max_profit=profit\n",
    "            else:\n",
    "                pass\n",
    "        \n",
    "        return max_profit\n",
    "                \n",
    "\n",
    "solver = Solution()\n",
    "prices = [7,1,5,3,6,4]\n",
    "solver.maxProfit(prices)            "
   ]
  }
 ],
 "metadata": {
  "kernelspec": {
   "display_name": "Python 3.10.4 ('py310': conda)",
   "language": "python",
   "name": "python3"
  },
  "language_info": {
   "codemirror_mode": {
    "name": "ipython",
    "version": 3
   },
   "file_extension": ".py",
   "mimetype": "text/x-python",
   "name": "python",
   "nbconvert_exporter": "python",
   "pygments_lexer": "ipython3",
   "version": "3.10.4"
  },
  "orig_nbformat": 4,
  "vscode": {
   "interpreter": {
    "hash": "7e93b77a149730369c8afcfded88225d3677e5447c929e96e0362652884ac491"
   }
  }
 },
 "nbformat": 4,
 "nbformat_minor": 2
}
